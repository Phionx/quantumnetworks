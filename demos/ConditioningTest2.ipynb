{
 "cells": [
  {
   "cell_type": "markdown",
   "source": [
    "# Demo: Matrix Conditioning and Uncertainties\n",
    "MIT 6.336: Introduction to Numerical Simulation and Modelling"
   ],
   "metadata": {}
  },
  {
   "cell_type": "markdown",
   "source": [
    "## Imports and Setup"
   ],
   "metadata": {}
  },
  {
   "cell_type": "code",
   "execution_count": 1,
   "source": [
    "%load_ext autoreload\n",
    "%autoreload 2"
   ],
   "outputs": [],
   "metadata": {}
  },
  {
   "cell_type": "code",
   "execution_count": 2,
   "source": [
    "import sys\n",
    "sys.path.insert(0, \"../\")\n",
    "import warnings\n",
    "warnings.filterwarnings('ignore')"
   ],
   "outputs": [],
   "metadata": {}
  },
  {
   "cell_type": "code",
   "execution_count": 59,
   "source": [
    "from quantumnetworks import MultiModeSystem, plot_full_evolution\n",
    "from typing import Iterable\n",
    "\n",
    "import matplotlib.pyplot as plt\n",
    "import numpy as np\n",
    "\n",
    "\n",
    "np.set_printoptions(suppress=True)"
   ],
   "outputs": [],
   "metadata": {}
  },
  {
   "cell_type": "code",
   "execution_count": 585,
   "source": [
    "π = np.pi\n",
    "\n",
    "def npArr(x, scale_factor = 1):\n",
    "    return np.array(x) * scale_factor\n",
    "\n",
    "def plot_cond(kerrs, conds, x_label = None, fig = None, ax = None):\n",
    "    fig = fig if fig is not None else plt.figure(figsize=(4, 2.5), dpi=150)\n",
    "    ax = ax if ax is not None else fig.subplots()\n",
    "    \n",
    "    ax.plot(kerrs, conds)\n",
    "    ax.ticklabel_format(axis=\"y\", style=\"sci\", scilimits=(0,0))\n",
    "    fig.tight_layout()\n",
    "    x_label = x_label if x_label is not None else r\"Kerr $K$ (GHz)\"\n",
    "    \n",
    "    ax.set_xlabel(x_label)\n",
    "    ax.set_ylabel(r\"Cond. Number $C(A)$\")\n",
    "    ax.set_title(\"Condition Number vs. Kerr\")\n",
    "    \n",
    "def print_cond(A, name = None):\n",
    "\n",
    "    name = name if name is not None else \"A\"\n",
    "    c_A = np.linalg.cond(A)\n",
    "\n",
    "    print(f\"{name} = \\n{A}\\n\")\n",
    "    print(f\"c({name}) = {c_A:2e}\")\n",
    "    print(\"\\n\")"
   ],
   "outputs": [],
   "metadata": {}
  },
  {
   "cell_type": "markdown",
   "source": [
    "## A. Single Mode System"
   ],
   "metadata": {}
  },
  {
   "cell_type": "markdown",
   "source": [
    "### Sweep Condition Number vs. Kerr"
   ],
   "metadata": {}
  },
  {
   "cell_type": "code",
   "execution_count": 540,
   "source": [
    "\"\"\"System Parameters in 2π × GHz\"\"\"\n",
    "sf = 1  # scale factor\n",
    "omegas = npArr([6], sf)\n",
    "kappas = npArr([0.01], sf)\n",
    "gammas = npArr([0], sf)\n",
    "couplings = []\n",
    "\n",
    "KerrList = (-1) * np.arange(0, 4, 0.001) * sf\n",
    "op = np.array([1, 0])\n",
    "\n",
    "\"\"\"Sweep Kerr Values\"\"\"\n",
    "conds = []\n",
    "for k in KerrList:\n",
    "    kerrs = [k]\n",
    "    sys = MultiModeSystem(params={\"omegas\":omegas, \"kappas\":kappas, \"gammas\":gammas, \"kerrs\": kerrs, \"couplings\":couplings})\n",
    "    conds.append(np.linalg.cond(sys.A + sys.Jf_nl(op)))\n",
    "\n",
    "\"\"\"Plot condition number\"\"\"\n",
    "plot_cond(KerrList / sf, conds)"
   ],
   "outputs": [
    {
     "output_type": "display_data",
     "data": {
      "image/png": "[encoded data removed]",
      "text/plain": [
       "<Figure size 600x375 with 1 Axes>"
      ]
     },
     "metadata": {
      "needs_background": "light"
     }
    }
   ],
   "metadata": {
    "scrolled": false
   }
  },
  {
   "cell_type": "markdown",
   "source": [
    "### Display Matrix and Condition Number + Time-Evolution"
   ],
   "metadata": {}
  },
  {
   "cell_type": "code",
   "execution_count": 619,
   "source": [
    "\"\"\"System Parameters in 2π × GHz\"\"\"\n",
    "sf = 1  # scale factor\n",
    "omegas = npArr([6], sf)\n",
    "kappas = npArr([0.01], sf)\n",
    "gammas = npArr([0], sf)\n",
    "couplings = []\n",
    "kerrs = npArr([-1], sf)\n",
    "op = np.array([1, 0])\n",
    "\n",
    "\"\"\"Setup System and Plot Time Dynamics\"\"\"\n",
    "sys = MultiModeSystem(params={\"omegas\":omegas, \"kappas\":kappas, \"gammas\":gammas, \"kerrs\": kerrs, \"couplings\":couplings})\n",
    "\n",
    "plot_evolution = False\n",
    "if plot_evolution:\n",
    "    x_0 = np.array(op)\n",
    "    ts = np.linspace(0, 50, 1001)\n",
    "    X = sys.forward_euler(x_0, ts)\n",
    "    fig, ax = plot_full_evolution(X, ts, labels=[\"$q_a$\",\"$p_a$\"])\n",
    "    ax.legend()\n",
    "\n",
    "\n",
    "\"\"\"Display Matrices and Condition Number\"\"\"\n",
    "A = sys.A\n",
    "A_nl = A + sys.Jf_nl(op)\n",
    "print_cond(A_nl, \"A_nl\")\n",
    "\n",
    "\n",
    "A_nl_inv = np.linalg.inv(A_nl)\n",
    "c_A_nl_direct = np.sqrt(np.max(np.linalg.eigvals(np.transpose(A_nl) @ A_nl))) * \\\n",
    "                     np.sqrt(np.max(np.linalg.eigvals(np.transpose(A_nl_inv) @ A_nl_inv)))\n",
    "print(f\"c(A_nl) = {c_A_nl_direct:2e} (direct calculation)\")\n"
   ],
   "outputs": [
    {
     "output_type": "stream",
     "name": "stdout",
     "text": [
      "A_nl = \n",
      "[[-0.005  4.   ]\n",
      " [ 0.    -0.005]]\n",
      "\n",
      "c(A_nl) = 6.400020e+05\n",
      "\n",
      "\n",
      "c(A_nl) = 6.400020e+05 (direct calculation)\n"
     ]
    }
   ],
   "metadata": {}
  },
  {
   "cell_type": "code",
   "execution_count": null,
   "source": [],
   "outputs": [],
   "metadata": {}
  },
  {
   "cell_type": "markdown",
   "source": [
    "### Analytic Calculations\n",
    "\n",
    "For a single-mode system with no internal loss, we have\n",
    "\\begin{equation*}\n",
    "A_{\\rm nl}(q_0, p_0) = \\begin{bmatrix}\n",
    "    -\\frac{\\kappa_a}{2} + 4Kq_0p_0 & \\omega_a + 2K(q_0^2+p_0^2)+4Kp_0^2 \\\\\n",
    "    -\\omega_a -2K (q_0^2 + p_0^2) - 4K q_0^2 & -\\frac{\\kappa_a}{2} - 4Kq_0 p_0\n",
    "\\end{bmatrix}.\n",
    "\\end{equation*}\n",
    "\n",
    "We can see that the diagonals of this matrix will be small whenever the 'loss' term $\\kappa_a \\simeq 0$. This is something of a necessary condition for ill-conditioning. We also note that if the system is entirely linear ($K=0$), then no ill-conditioning can occur by construction --- so another necessary condition is nonlinearity. Now, if either $q_0$ or $p_0$ is zero (but not both), then the two diagonals automatically vanish. The matrix will thus be ill conditioned whenever either of the remaining off diagonals vanish. This happens at two points: \n",
    "\\begin{equation*}\n",
    "    -\\omega_a -2K (q_0^2 + p_0^2) - 4K q_0^2 \\simeq 0 \\quad\\Longleftrightarrow\\quad K \\simeq \\frac{-\\omega_a}{2(q_0^2 + p_0^2) + 4q_0^2}\n",
    "\\end{equation*}\n",
    "and\n",
    "\\begin{equation*}\n",
    "    \\omega_a + 2K (q_0^2 + p_0^2) + 4K p_0^2 \\simeq 0 \\quad\\Longleftrightarrow\\quad K \\simeq \\frac{-\\omega_a}{2(q_0^2 + p_0^2) + 4p_0^2}\n",
    "\\end{equation*}\n",
    "\n",
    "More generally, arbitrary $q_0, p_0$ (with not both zero). Then, we can search for ill-conditioning whenever the rows/columns are linearly dependent, which will occur when $\\det(A_{\\rm nl}) = 0$, i.e.\n",
    "\\begin{equation*}\n",
    "    (4Kq_0p_0)^2 = \\Big(\\omega_a + 2K(q_0^2+p_0^2)+4Kp_0^2\\Big)\\Big(\\omega_a +2K (q_0^2 + p_0^2) + 4K q_0^2\\Big)\n",
    "\\end{equation*}\n",
    "or, equivalently,\n",
    "\\begin{equation*}\n",
    "    (4Kq_0p_0)^2 = \\Big(\\omega_a + 2K(q_0^2+3p_0^2)\\Big)\\Big(\\omega_a +2K (3q_0^2 + p_0^2)\\Big)\n",
    "\\end{equation*}\n",
    "or,\n",
    "\\begin{equation*}\n",
    "    \\Big[4(q_0^2+3p_0^2)(3q_0^2 + p_0^2) - 16q_0^2p_0^2\\Big]K^2 + \\Big[8\\omega_a (q_0^2 + p_0^2)\\Big]K + \\omega_a^2 = 0\n",
    "\\end{equation*}\n",
    "The two solutions $K_+$ and $K_-$ of this equation are the two singular points of the system. By construction, _both_ of these solutions will always be negative. \n",
    "\n",
    "\n",
    "\n",
    "**Other Notes and Observations:**\n",
    "- For linear systems (i.e. kerr K = 0), the matrix A is always well conditioned by construction and `c(A)` ~ 1. \n",
    "\n",
    "\n",
    "- For non-linear `SingleModeSystem`, we need **negative** kerr (K < 0) in order to be able to find a singular operating point. \n",
    "    - If loss is nearly zero (i.e. κa ~ 0 and γa = 0), then the terms (κa + γa)/2 in the diagonals of A_nl nearly vanish. Then, for certain values of kerr K and operating point (q0, p0), the rows/columns become linearly dependent. **See calculation above**\n",
    "    - E.g. if (q0, p0) = (1, 0), then we find `c(A_nl)` ~ 1e9 (i.e. _gets very large_) near K = -ωa / 6, and then again `c(A_nl)` ~ 1e10 near K = -ωa / 2"
   ],
   "metadata": {}
  },
  {
   "cell_type": "markdown",
   "source": [],
   "metadata": {}
  },
  {
   "cell_type": "code",
   "execution_count": 330,
   "source": [
    "\"\"\"Solving the quadratic equation\"\"\"\n",
    "omega = 6; q0 = 1; p0 = 0\n",
    "\n",
    "Aq = 4*(q0**2 + 3*p0**2)*(3*q0**2 + p0**2) - 16*q0**2 * p0**2\n",
    "Bq = 8*omega*(q0**2 + p0**2)\n",
    "Cq = omega**2\n",
    "\n",
    "print(\"Singular A_nl when Kerr K is:\")\n",
    "print([(-Bq - np.sqrt(Bq**2 - 4*Aq*Cq)) / (2*Aq), (-Bq + np.sqrt(Bq**2 - 4*Aq*Cq)) / (2*Aq)])"
   ],
   "outputs": [
    {
     "output_type": "stream",
     "name": "stdout",
     "text": [
      "Singular A_nl when Kerr K is:\n",
      "[-3.0, -1.0]\n"
     ]
    }
   ],
   "metadata": {}
  },
  {
   "cell_type": "markdown",
   "source": [
    "## B. Double Mode System"
   ],
   "metadata": {}
  },
  {
   "cell_type": "markdown",
   "source": [
    "### Plot Condition Number vs. Kerr"
   ],
   "metadata": {}
  },
  {
   "cell_type": "code",
   "execution_count": 626,
   "source": [
    "x = [0, 0.2, 0.4, 0.6, 0.8, 1, 1.2]\n",
    "y = [3.5, 3.49, 3.46, 3.41, 3.34, 3.25, 3.14]\n",
    "\n",
    "plt.plot(x, y)"
   ],
   "outputs": [
    {
     "output_type": "execute_result",
     "data": {
      "text/plain": [
       "[<matplotlib.lines.Line2D at 0x7ccee04258b0>]"
      ]
     },
     "metadata": {},
     "execution_count": 626
    },
    {
     "output_type": "display_data",
     "data": {
      "image/png": "[encoded data removed]",
      "text/plain": [
       "<Figure size 432x288 with 1 Axes>"
      ]
     },
     "metadata": {
      "needs_background": "light"
     }
    }
   ],
   "metadata": {}
  },
  {
   "cell_type": "code",
   "execution_count": 813,
   "source": [
    "\"\"\"System Parameters in 2π × GHz\"\"\"\n",
    "sf = 1  # scale factor\n",
    "omegas = npArr([6, 7], sf)\n",
    "kappas = npArr([0.0000001, 0.000000000001], sf)\n",
    "gammas = npArr([0, 0], sf)\n",
    "couplings = npArr([[0, 1, 0.2]], sf)\n",
    "\n",
    "kerr_A = -0.001 * sf\n",
    "kerr_B = (-1) * np.arange(0, 4, 0.001) * sf\n",
    "op = np.array([1, 0, 1, 0])\n",
    "\n",
    "\"\"\"Sweep Kerr Values\"\"\"\n",
    "conds = []\n",
    "for k in kerr_B:\n",
    "    kerrs = [kerr_A, k]\n",
    "    sys = MultiModeSystem(params={\"omegas\":omegas, \"kappas\":kappas, \"gammas\":gammas, \"kerrs\": kerrs, \"couplings\":couplings})\n",
    "    conds.append(np.linalg.cond(sys.A + sys.Jf_nl(op)))\n",
    "\n",
    "\"\"\"Plot condition number\"\"\"\n",
    "plot_cond(kerr_B / sf, conds, r\"Kerr $K_b$ (GHz)\")\n"
   ],
   "outputs": [
    {
     "output_type": "display_data",
     "data": {
      "image/png": "[encoded data removed]",
      "text/plain": [
       "<Figure size 600x375 with 1 Axes>"
      ]
     },
     "metadata": {
      "needs_background": "light"
     }
    }
   ],
   "metadata": {}
  },
  {
   "cell_type": "markdown",
   "source": [
    "### Display Matrix and Condition Number"
   ],
   "metadata": {}
  },
  {
   "cell_type": "code",
   "execution_count": 735,
   "source": [
    "\"\"\"System Parameters in 2π × GHz\"\"\"\n",
    "sf = 1  # scale factor\n",
    "omegas = npArr([6, 7], sf)\n",
    "kappas = npArr([0.00000001, 0.00000001], sf)\n",
    "gammas = npArr([0, 0], sf)\n",
    "couplings = npArr([[0, 1, 0.2]], sf)\n",
    "\n",
    "kerrs = npArr([0, -3.49], sf)\n",
    "op = np.array([1, 0, 1, 0])\n",
    "\n",
    "\n",
    "\"\"\"Setup System and Display Matrices\"\"\"\n",
    "sys = MultiModeSystem(params={\"omegas\":omegas, \"kappas\":kappas, \"gammas\":gammas, \"kerrs\": kerrs, \"couplings\":couplings})\n",
    "\n",
    "A = sys.A\n",
    "A_nl = A + sys.Jf_nl(op)\n",
    "print_cond(A_nl, \"A_nl\")"
   ],
   "outputs": [
    {
     "output_type": "stream",
     "name": "stdout",
     "text": [
      "A_nl = \n",
      "[[-0.00000001  6.          0.          0.2       ]\n",
      " [-6.         -0.00000001 -0.2         0.        ]\n",
      " [ 0.          0.2        -0.00000001  0.02      ]\n",
      " [-0.2         0.         13.94       -0.00000001]]\n",
      "\n",
      "c(A_nl) = 1.046815e+03\n",
      "\n",
      "\n"
     ]
    }
   ],
   "metadata": {}
  },
  {
   "cell_type": "code",
   "execution_count": 716,
   "source": [
    "np.linalg.det(A_nl)"
   ],
   "outputs": [
    {
     "output_type": "execute_result",
     "data": {
      "text/plain": [
       "0.0009090306247271123"
      ]
     },
     "metadata": {},
     "execution_count": 716
    }
   ],
   "metadata": {}
  },
  {
   "cell_type": "markdown",
   "source": [
    "### Analytic Calculations\n",
    "\n",
    "For a double-mode system with no internal loss, we have\n",
    "\\begin{align*}\n",
    "&A_{\\rm nl}(q_a, p_a, q_b, p_b) \\\\ &= \\begin{bmatrix}\n",
    "    -\\frac{\\kappa_a}{2} + 4K_aq_ap_a & \\omega_a + 2K_a(q_a^2+p_a^2)+4K_ap_a^2 & 0 & g_{ab} \\\\\n",
    "    -\\omega_a -2K_a (q_a^2 + p_a^2) - 4K_a q_a^2 & -\\frac{\\kappa_a}{2} - 4K_aq_a p_a & -g_{ab} & 0 \\\\\n",
    "    0 & g_{ab} & -\\frac{\\kappa_b}{2} + 4K_bq_bp_b & \\omega_b + 2K_b(q_b^2+p_b^2)+4K_bp_b^2 \\\\\n",
    "    -g_{ab} & 0 & -\\omega_b -2K_b (q_b^2 + p_b^2) - 4K_b q_b^2 & -\\frac{\\kappa_b}{2} - 4K_bq_b p_b \\\\\n",
    "\\end{bmatrix}.\n",
    "\\end{align*}\n",
    "\n",
    "\n",
    "\n",
    "\n",
    "**Notes and other Observations**\n",
    "- For linear systems (i.e. Kerr $K = 0$), the matrix `A` is always well conditioned by construction and `c(A)` ~ 1. \n",
    "\n",
    "- For a non-linear `DoubleModeSystem`, we need **negative** kerr ($K < 0$) in order to be able to find a singular operating point. We also need a low $\\kappa_a, \\kappa_b$. \n",
    "- Matrix $A_{\\rm nl}$ will be ill-conditioned if either of its diagonal blocks are ill-conditioned! \n",
    "- Changing $g_{ab}$ doesn't seem to affect the size of the singularity, but does affect its location."
   ],
   "metadata": {}
  },
  {
   "cell_type": "code",
   "execution_count": null,
   "source": [],
   "outputs": [],
   "metadata": {}
  },
  {
   "cell_type": "markdown",
   "source": [
    "## 3 Mode System"
   ],
   "metadata": {}
  },
  {
   "cell_type": "code",
   "execution_count": null,
   "source": [
    "# 3 mode system\n",
    "omegas = [1,2,1]\n",
    "kappas = [0.001,0.005,0.001]\n",
    "gammas = [0.002,0.002,0.002]\n",
    "kerrs = [0.001, 0.001, 0.001]\n",
    "couplings = [[0,1,0.002],[1,2,0.002]]\n",
    "sys = MultiModeSystem(params={\"omegas\":omegas, \"kappas\":kappas, \"gammas\":gammas, \"kerrs\":kerrs, \"couplings\":couplings})\n",
    "print(np.around(sys.A, decimals=4))\n",
    "# x_0 = np.array([1,0,0,1])\n",
    "# ts = np.linspace(0, 10, 1001)\n",
    "# X = sys.forward_euler(x_0, ts)\n",
    "# fig, ax = plot_full_evolution(X, ts, labels=[\"$q_a$\",\"$p_a$\",\"$q_b$\",\"$p_b$\"])\n",
    "# ax.legend()"
   ],
   "outputs": [],
   "metadata": {}
  }
 ],
 "metadata": {
  "kernelspec": {
   "display_name": "Python 3 (ipykernel)",
   "language": "python",
   "name": "python3"
  },
  "language_info": {
   "codemirror_mode": {
    "name": "ipython",
    "version": 3
   },
   "file_extension": ".py",
   "mimetype": "text/x-python",
   "name": "python",
   "nbconvert_exporter": "python",
   "pygments_lexer": "ipython3",
   "version": "3.9.7"
  }
 },
 "nbformat": 4,
 "nbformat_minor": 5
}