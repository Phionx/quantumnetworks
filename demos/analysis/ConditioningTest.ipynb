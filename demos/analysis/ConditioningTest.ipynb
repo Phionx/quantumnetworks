{
 "cells": [
  {
   "cell_type": "markdown",
   "id": "8cf6ee60",
   "metadata": {},
   "source": [
    "# Matrix Conditioning and Uncertainties"
   ]
  },
  {
   "cell_type": "code",
   "execution_count": 2,
   "id": "b1bb527f-31e9-4656-a65b-c6bd5e2dab7b",
   "metadata": {},
   "outputs": [],
   "source": [
    "%load_ext autoreload\n",
    "%autoreload 2"
   ]
  },
  {
   "cell_type": "code",
   "execution_count": 3,
   "id": "a26b2306-dee9-400c-9b01-d5a2a12e8426",
   "metadata": {},
   "outputs": [],
   "source": [
    "import sys\n",
    "sys.path.insert(0, \"../\"*2)\n",
    "import warnings\n",
    "warnings.filterwarnings('ignore')"
   ]
  },
  {
   "cell_type": "code",
   "execution_count": 4,
   "id": "9324c97d-633b-4530-8a47-2654dac4eb77",
   "metadata": {},
   "outputs": [],
   "source": [
    "from quantumnetworks import MultiModeSystem, plot_full_evolution\n",
    "import numpy as np\n",
    "import matplotlib.pyplot as plt\n",
    "\n",
    "np.set_printoptions(suppress=True)"
   ]
  },
  {
   "cell_type": "markdown",
   "id": "4f529313",
   "metadata": {},
   "source": [
    "### Single Mode System"
   ]
  },
  {
   "cell_type": "code",
   "execution_count": 5,
   "id": "0691b06e-20e7-4336-b4ff-30789b53d17b",
   "metadata": {},
   "outputs": [
    {
     "data": {
      "text/plain": [
       "[<matplotlib.lines.Line2D at 0x7fcdbdfda910>]"
      ]
     },
     "execution_count": 5,
     "metadata": {},
     "output_type": "execute_result"
    },
    {
     "data": {
      "image/png": "[encoded data removed]",
      "text/plain": [
       "<Figure size 432x288 with 1 Axes>"
      ]
     },
     "metadata": {
      "needs_background": "light"
     },
     "output_type": "display_data"
    }
   ],
   "source": [
    "omegas = [2*np.pi*6]\n",
    "kappas = [2*np.pi*0.01]\n",
    "gammas = [2*np.pi*0.0]\n",
    "kerrList = -2*np.pi*np.arange(0, 0.05, 0.001) # [-1.5] #\n",
    "couplings = []\n",
    "\n",
    "conds = []\n",
    "op = np.array([10, 0])\n",
    "\n",
    "for kerr in kerrList:\n",
    "    \n",
    "    kerrs = [kerr]\n",
    "    sys = MultiModeSystem(params={\"omegas\":omegas, \"kappas\":kappas,\"gammas\":gammas,\"kerrs\":kerrs,\"couplings\":couplings})\n",
    "\n",
    "    plot_evolution = False\n",
    "    if plot_evolution:\n",
    "        x_0 = np.array([1,0])\n",
    "        ts = np.linspace(0, 10, 10001)\n",
    "        X = sys.forward_euler(x_0, ts)\n",
    "        fig, ax = plot_full_evolution(X, ts, labels=[\"$q_a$\",\"$p_a$\"])\n",
    "        ax.legend()\n",
    "        \n",
    "    \n",
    "    conds.append(np.linalg.cond(sys.A+sys.Jf_nl(op)))\n",
    "\n",
    "# Plot condition number\n",
    "plt.plot(kerrList, conds)\n",
    "#plt.ticklabel_format(axis=\"y\", style=\"sci\", scilimits=(0,0))"
   ]
  },
  {
   "cell_type": "code",
   "execution_count": 6,
   "id": "cc68c1b0",
   "metadata": {},
   "outputs": [
    {
     "name": "stdout",
     "output_type": "stream",
     "text": [
      "Condition Numbers\n",
      "c(A) = 1.000000e+00\n",
      "c(A_nl) = 6.157893e+00\n",
      "c(A_nl) = 6.157893e+00 (numpy)\n"
     ]
    }
   ],
   "source": [
    "A = sys.A\n",
    "A_inv = np.linalg.inv(sys.A)\n",
    "A_nl = sys.A+sys.Jf_nl(op)\n",
    "A_nl_inv = np.linalg.inv(A_nl)\n",
    "\n",
    "\n",
    "k_A = np.linalg.cond(A)\n",
    "k_A_nl_np = np.linalg.cond(A_nl)\n",
    "k_A_nl = np.sqrt(np.max(np.linalg.eigvals(np.transpose(A_nl) @ A_nl))) * \\\n",
    "np.sqrt(np.max(np.linalg.eigvals(np.transpose(A_nl_inv) @ A_nl_inv)))\n",
    "\n",
    "\n",
    "print(\"Condition Numbers\")\n",
    "print(f\"c(A) = {k_A:2e}\") \n",
    "\n",
    "print(f\"c(A_nl) = {k_A_nl:2e}\")\n",
    "print(f\"c(A_nl) = {k_A_nl_np:2e} (numpy)\")"
   ]
  },
  {
   "cell_type": "code",
   "execution_count": 7,
   "id": "345146ca",
   "metadata": {},
   "outputs": [
    {
     "data": {
      "text/plain": [
       "array([[ -0.03141593, -23.87610417],\n",
       "       [147.02653619,  -0.03141593]])"
      ]
     },
     "execution_count": 7,
     "metadata": {},
     "output_type": "execute_result"
    }
   ],
   "source": [
    "A_nl"
   ]
  },
  {
   "cell_type": "markdown",
   "id": "abf9ffb3",
   "metadata": {},
   "source": [
    "### Double Mode System"
   ]
  },
  {
   "cell_type": "code",
   "execution_count": 8,
   "id": "51a266b4-e4cd-460f-91eb-14941b9b00d9",
   "metadata": {},
   "outputs": [],
   "source": [
    "# double mode system\n",
    "omegas = [2*np.pi*1,2*np.pi*2]\n",
    "kappas = [2*np.pi*0.001,2*np.pi*0.005]\n",
    "gammas = [2*np.pi*0.002,2*np.pi*0.002]\n",
    "kerrs = [2*np.pi*0.001, 2*np.pi*0.001]\n",
    "couplings = [[0,1,2*np.pi*0.002]]\n",
    "sys = MultiModeSystem(params={\"omegas\":omegas, \"kappas\":kappas, \"gammas\":gammas, \"kerrs\": kerrs, \"couplings\":couplings})"
   ]
  },
  {
   "cell_type": "code",
   "execution_count": 9,
   "id": "a9bc35f8",
   "metadata": {},
   "outputs": [
    {
     "name": "stdout",
     "output_type": "stream",
     "text": [
      "[[ -0.0094   6.2832   0.       0.0126]\n",
      " [ -6.2832  -0.0094  -0.0126   0.    ]\n",
      " [  0.       0.0126  -0.022   12.5664]\n",
      " [ -0.0126   0.     -12.5664  -0.022 ]]\n"
     ]
    },
    {
     "data": {
      "text/plain": [
       "1.0"
      ]
     },
     "execution_count": 9,
     "metadata": {},
     "output_type": "execute_result"
    }
   ],
   "source": [
    "print(np.around(sys.A, decimals=4))\n",
    "\n",
    "np.linalg.cond(A)"
   ]
  },
  {
   "cell_type": "markdown",
   "id": "2d7863a6",
   "metadata": {},
   "source": [
    "### 3 Mode System"
   ]
  },
  {
   "cell_type": "code",
   "execution_count": 10,
   "id": "994a516c-7eee-48ef-9d91-e4fe0e33c6cc",
   "metadata": {},
   "outputs": [
    {
     "name": "stdout",
     "output_type": "stream",
     "text": [
      "[[ -0.0094   6.2832   0.       0.0126   0.       0.    ]\n",
      " [ -6.2832  -0.0094  -0.0126   0.       0.       0.    ]\n",
      " [  0.       0.0126  -0.022   12.5664   0.       0.0126]\n",
      " [ -0.0126   0.     -12.5664  -0.022   -0.0126   0.    ]\n",
      " [  0.       0.       0.       0.0126  -0.0094   6.2832]\n",
      " [  0.       0.      -0.0126   0.      -6.2832  -0.0094]]\n"
     ]
    }
   ],
   "source": [
    "# 3 mode system\n",
    "omegas = [2*np.pi*1,2*np.pi*2,2*np.pi*1]\n",
    "kappas = [2*np.pi*0.001,2*np.pi*0.005,2*np.pi*0.001]\n",
    "gammas = [2*np.pi*0.002,2*np.pi*0.002,2*np.pi*0.002]\n",
    "kerrs = [2*np.pi*0.001, 2*np.pi*0.001, 2*np.pi*0.001]\n",
    "couplings = [[0,1,2*np.pi*0.002],[1,2,2*np.pi*0.002]]\n",
    "sys = MultiModeSystem(params={\"omegas\":omegas, \"kappas\":kappas, \"gammas\":gammas, \"kerrs\":kerrs, \"couplings\":couplings})\n",
    "print(np.around(sys.A, decimals=4))\n",
    "# x_0 = np.array([1,0,0,1])\n",
    "# ts = np.linspace(0, 10, 1001)\n",
    "# X = sys.forward_euler(x_0, ts)\n",
    "# fig, ax = plot_full_evolution(X, ts, labels=[\"$q_a$\",\"$p_a$\",\"$q_b$\",\"$p_b$\"])\n",
    "# ax.legend()"
   ]
  },
  {
   "cell_type": "markdown",
   "id": "07448f41",
   "metadata": {},
   "source": [
    "## Notes and Observations\n",
    "\n",
    "- For linear systems (i.e. kerr K = 0), the matrix A is always well conditioned by construction and c(A) ~ 1. \n",
    "\n",
    "\n",
    "- For non-linear SingleModeSystem, we need **negative** kerr (K < 0) in order to be able to find a singular operating point. \n",
    "    - If loss is nearly zero (i.e. κa ~ 0 and γa = 0), then the terms (κa + γa)/2 in the diagonals of A_nl nearly vanish. Then, for certain values of kerr K and operating point (q0, p0), the rows/columns become linearly dependent. \n",
    "    - E.g. if (q0, p0) = (1, 0), then we find c(A_nl) ~ 1e9 (i.e. _gets very large_) near K = -ωa / 6, and then again c(A_nl) ~ 1e10 near K = -ωa / 2"
   ]
  },
  {
   "cell_type": "code",
   "execution_count": null,
   "id": "91708d07",
   "metadata": {},
   "outputs": [],
   "source": []
  }
 ],
 "metadata": {
  "kernelspec": {
   "display_name": "Python 3 (ipykernel)",
   "language": "python",
   "name": "python3"
  },
  "language_info": {
   "codemirror_mode": {
    "name": "ipython",
    "version": 3
   },
   "file_extension": ".py",
   "mimetype": "text/x-python",
   "name": "python",
   "nbconvert_exporter": "python",
   "pygments_lexer": "ipython3",
   "version": "3.9.7"
  }
 },
 "nbformat": 4,
 "nbformat_minor": 5
}
